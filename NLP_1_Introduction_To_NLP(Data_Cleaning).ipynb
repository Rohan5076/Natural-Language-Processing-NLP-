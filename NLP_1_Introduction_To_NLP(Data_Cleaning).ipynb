{
  "nbformat": 4,
  "nbformat_minor": 0,
  "metadata": {
    "colab": {
      "provenance": [],
      "include_colab_link": true
    },
    "kernelspec": {
      "name": "python3",
      "display_name": "Python 3"
    },
    "language_info": {
      "name": "python"
    }
  },
  "cells": [
    {
      "cell_type": "markdown",
      "metadata": {
        "id": "view-in-github",
        "colab_type": "text"
      },
      "source": [
        "<a href=\"https://colab.research.google.com/github/Rohan5076/Natural-Language-Processing-NLP-/blob/main/NLP_1_Introduction_To_NLP(Data_Cleaning).ipynb\" target=\"_parent\"><img src=\"https://colab.research.google.com/assets/colab-badge.svg\" alt=\"Open In Colab\"/></a>"
      ]
    },
    {
      "cell_type": "markdown",
      "source": [
        "# Introduction To NLP:\n",
        "\n",
        "Natural Language Processing, or NLP, is the sub-field of AI that is focused on enabling computers to understand and process human languages. Let’s check out how NLP works and learn how to write programs that can extract information out of raw text using Python!\n",
        "\n",
        "# Can Computers Understand Language?\n",
        "As long as computers have been around, programmers have been trying to write programs that understand languages like English. The reason is pretty obvious — humans have been writing things down for thousands of years and it would be really helpful if a computer could read and understand all that data.\n",
        "\n",
        "Computers can’t yet truly understand English in the way that humans do — but they can already do a lot! In certain limited areas, what you can do with NLP already seems like magic. You might be able to save a lot of time by applying NLP techniques to your own projects.\n",
        "\n",
        "And even better, the latest advances in NLP are easily accessible through open source Python libraries like **spaCy, textacy, and neuralcoref.** What you can do with just a few lines of python is amazing."
      ],
      "metadata": {
        "id": "cytQoML1leQa"
      }
    },
    {
      "cell_type": "markdown",
      "source": [
        "# Use Cases of NLP\n",
        "In simple terms, NLP represents the automatic handling of natural human language like speech or text, and although the concept itself is fascinating, the real value behind this technology comes from the use cases.\n",
        "\n",
        "NLP can help you with lots of tasks and the fields of application just seem to increase on a daily basis. Let’s mention some examples:\n",
        "\n",
        "1. NLP enables the recognition and prediction of diseases based on electronic health records and patient’s own speech. This capability is being explored in health conditions that go from cardiovascular diseases to depression and even schizophrenia. For example, Amazon Comprehend Medical is a service that uses NLP to extract disease conditions, medications and treatment outcomes from patient notes, clinical trial reports and other electronic health records.\n",
        "\n",
        "2. Organizations can determine what customers are saying about a service or product by identifying and extracting information in sources like social media. This sentiment analysis can provide a lot of information about customers choices and their decision drivers.\n",
        "3. An inventor at IBM developed a cognitive assistant that works like a personalized search engine by learning all about you and then remind you of a name, a song, or anything you can’t remember the moment you need it to.\n",
        "4. Companies like Yahoo and Google filter and classify your emails with NLP by analyzing text in emails that flow through their servers and stopping spam before they even enter your inbox.\n",
        "5. To help identifying fake news, the NLP Group at MIT developed a new system to determine if a source is accurate or politically biased, detecting if a news source can be trusted or not.\n",
        "\n",
        "6. Amazon’s Alexa and Apple’s Siri are examples of intelligent voice driven interfaces that use NLP to respond to vocal prompts and do everything like find a particular shop, tell us the weather forecast, suggest the best route to the office or turn on the lights at home.\n",
        "7. Having an insight into what is happening and what people are talking about can be very valuable to financial traders. NLP is being used to track news, reports, comments about possible mergers between companies, everything can be then incorporated into a trading algorithm to generate massive profits. Remember: buy the rumor, sell the news.\n",
        "8. NLP is also being used in both the search and selection phases of talent recruitment, identifying the skills of potential hires and also spotting prospects before they become active on the job market.\n",
        "9. Powered by IBM Watson NLP technology, LegalMation developed a platform to automate routine litigation tasks and help legal teams save time, drive down costs and shift strategic focus.\n",
        "\n",
        "NLP is particularly booming in the healthcare industry. This technology is improving care delivery, disease diagnosis and bringing costs down while healthcare organizations are going through a growing adoption of electronic health records. The fact that clinical documentation can be improved means that patients can be better understood and benefited through better healthcare. The goal should be to optimize their experience, and several organizations are already working on this.\n"
      ],
      "metadata": {
        "id": "mHtqfsblnxa1"
      }
    },
    {
      "cell_type": "markdown",
      "source": [
        "# Step1 Data Cleaning in NLP\n",
        "The raw text data comes directly after the various sources are not cleaned. We apply multiple steps to make data clean. Un-cleaned text data contains useless information that deviates results, so it’s always the first step to clean the data. Some standard preprocessing techniques should be applied to make data cleaner. Cleaned data also prevent models from overfitting.\n",
        "\n",
        "In this article, we will see the following topics under text processing and exploratory data analysis.\n",
        "\n",
        "I am converting the raw text data into a pandas data frame and performing various data cleaning techniques."
      ],
      "metadata": {
        "id": "cBjxxrfToUXg"
      }
    },
    {
      "cell_type": "code",
      "source": [
        "import pandas as pd \n",
        "text = ['This is the NLP TASKS ARTICLE written by ABhishek Jaiswal** ','IN this article ''ll be explaining various DATA-CLEANING techniques',\n",
        " 'So stay tuned for FURther More &&','Nah I don\"t think he goes to usf, he lives around']\n",
        "df = pd.DataFrame({'text':text})"
      ],
      "metadata": {
        "id": "yMxuR9XAle9m"
      },
      "execution_count": null,
      "outputs": []
    },
    {
      "cell_type": "code",
      "source": [
        "df"
      ],
      "metadata": {
        "colab": {
          "base_uri": "https://localhost:8080/",
          "height": 175
        },
        "id": "-O0ksU4yobYO",
        "outputId": "461aa8b4-e338-4667-fb06-caea4b6b70ab"
      },
      "execution_count": null,
      "outputs": [
        {
          "output_type": "execute_result",
          "data": {
            "text/plain": [
              "                                                text\n",
              "0  This is the NLP TASKS ARTICLE written by ABhis...\n",
              "1  IN this article ll be explaining various DATA-...\n",
              "2                  So stay tuned for FURther More &&\n",
              "3  Nah I don\"t think he goes to usf, he lives around"
            ],
            "text/html": [
              "\n",
              "  <div id=\"df-d2c2d93f-6588-439b-a4ba-d58344dee505\">\n",
              "    <div class=\"colab-df-container\">\n",
              "      <div>\n",
              "<style scoped>\n",
              "    .dataframe tbody tr th:only-of-type {\n",
              "        vertical-align: middle;\n",
              "    }\n",
              "\n",
              "    .dataframe tbody tr th {\n",
              "        vertical-align: top;\n",
              "    }\n",
              "\n",
              "    .dataframe thead th {\n",
              "        text-align: right;\n",
              "    }\n",
              "</style>\n",
              "<table border=\"1\" class=\"dataframe\">\n",
              "  <thead>\n",
              "    <tr style=\"text-align: right;\">\n",
              "      <th></th>\n",
              "      <th>text</th>\n",
              "    </tr>\n",
              "  </thead>\n",
              "  <tbody>\n",
              "    <tr>\n",
              "      <th>0</th>\n",
              "      <td>This is the NLP TASKS ARTICLE written by ABhis...</td>\n",
              "    </tr>\n",
              "    <tr>\n",
              "      <th>1</th>\n",
              "      <td>IN this article ll be explaining various DATA-...</td>\n",
              "    </tr>\n",
              "    <tr>\n",
              "      <th>2</th>\n",
              "      <td>So stay tuned for FURther More &amp;&amp;</td>\n",
              "    </tr>\n",
              "    <tr>\n",
              "      <th>3</th>\n",
              "      <td>Nah I don\"t think he goes to usf, he lives around</td>\n",
              "    </tr>\n",
              "  </tbody>\n",
              "</table>\n",
              "</div>\n",
              "      <button class=\"colab-df-convert\" onclick=\"convertToInteractive('df-d2c2d93f-6588-439b-a4ba-d58344dee505')\"\n",
              "              title=\"Convert this dataframe to an interactive table.\"\n",
              "              style=\"display:none;\">\n",
              "        \n",
              "  <svg xmlns=\"http://www.w3.org/2000/svg\" height=\"24px\"viewBox=\"0 0 24 24\"\n",
              "       width=\"24px\">\n",
              "    <path d=\"M0 0h24v24H0V0z\" fill=\"none\"/>\n",
              "    <path d=\"M18.56 5.44l.94 2.06.94-2.06 2.06-.94-2.06-.94-.94-2.06-.94 2.06-2.06.94zm-11 1L8.5 8.5l.94-2.06 2.06-.94-2.06-.94L8.5 2.5l-.94 2.06-2.06.94zm10 10l.94 2.06.94-2.06 2.06-.94-2.06-.94-.94-2.06-.94 2.06-2.06.94z\"/><path d=\"M17.41 7.96l-1.37-1.37c-.4-.4-.92-.59-1.43-.59-.52 0-1.04.2-1.43.59L10.3 9.45l-7.72 7.72c-.78.78-.78 2.05 0 2.83L4 21.41c.39.39.9.59 1.41.59.51 0 1.02-.2 1.41-.59l7.78-7.78 2.81-2.81c.8-.78.8-2.07 0-2.86zM5.41 20L4 18.59l7.72-7.72 1.47 1.35L5.41 20z\"/>\n",
              "  </svg>\n",
              "      </button>\n",
              "      \n",
              "  <style>\n",
              "    .colab-df-container {\n",
              "      display:flex;\n",
              "      flex-wrap:wrap;\n",
              "      gap: 12px;\n",
              "    }\n",
              "\n",
              "    .colab-df-convert {\n",
              "      background-color: #E8F0FE;\n",
              "      border: none;\n",
              "      border-radius: 50%;\n",
              "      cursor: pointer;\n",
              "      display: none;\n",
              "      fill: #1967D2;\n",
              "      height: 32px;\n",
              "      padding: 0 0 0 0;\n",
              "      width: 32px;\n",
              "    }\n",
              "\n",
              "    .colab-df-convert:hover {\n",
              "      background-color: #E2EBFA;\n",
              "      box-shadow: 0px 1px 2px rgba(60, 64, 67, 0.3), 0px 1px 3px 1px rgba(60, 64, 67, 0.15);\n",
              "      fill: #174EA6;\n",
              "    }\n",
              "\n",
              "    [theme=dark] .colab-df-convert {\n",
              "      background-color: #3B4455;\n",
              "      fill: #D2E3FC;\n",
              "    }\n",
              "\n",
              "    [theme=dark] .colab-df-convert:hover {\n",
              "      background-color: #434B5C;\n",
              "      box-shadow: 0px 1px 3px 1px rgba(0, 0, 0, 0.15);\n",
              "      filter: drop-shadow(0px 1px 2px rgba(0, 0, 0, 0.3));\n",
              "      fill: #FFFFFF;\n",
              "    }\n",
              "  </style>\n",
              "\n",
              "      <script>\n",
              "        const buttonEl =\n",
              "          document.querySelector('#df-d2c2d93f-6588-439b-a4ba-d58344dee505 button.colab-df-convert');\n",
              "        buttonEl.style.display =\n",
              "          google.colab.kernel.accessAllowed ? 'block' : 'none';\n",
              "\n",
              "        async function convertToInteractive(key) {\n",
              "          const element = document.querySelector('#df-d2c2d93f-6588-439b-a4ba-d58344dee505');\n",
              "          const dataTable =\n",
              "            await google.colab.kernel.invokeFunction('convertToInteractive',\n",
              "                                                     [key], {});\n",
              "          if (!dataTable) return;\n",
              "\n",
              "          const docLinkHtml = 'Like what you see? Visit the ' +\n",
              "            '<a target=\"_blank\" href=https://colab.research.google.com/notebooks/data_table.ipynb>data table notebook</a>'\n",
              "            + ' to learn more about interactive tables.';\n",
              "          element.innerHTML = '';\n",
              "          dataTable['output_type'] = 'display_data';\n",
              "          await google.colab.output.renderOutput(dataTable, element);\n",
              "          const docLink = document.createElement('div');\n",
              "          docLink.innerHTML = docLinkHtml;\n",
              "          element.appendChild(docLink);\n",
              "        }\n",
              "      </script>\n",
              "    </div>\n",
              "  </div>\n",
              "  "
            ]
          },
          "metadata": {},
          "execution_count": 3
        }
      ]
    },
    {
      "cell_type": "markdown",
      "source": [
        "## Lowercasing\n",
        "The method lower()converts all uppercase characters into lowercase and returns.\n",
        "\n",
        "Applying lower() method using lambda function"
      ],
      "metadata": {
        "id": "lJWSx5K6ou7Z"
      }
    },
    {
      "cell_type": "code",
      "source": [
        "df['lower'] = df['text'].apply(lambda x: \" \".join(x.lower()  for x in x.split()))\n",
        "df"
      ],
      "metadata": {
        "colab": {
          "base_uri": "https://localhost:8080/",
          "height": 175
        },
        "id": "Zodt5ItZopYR",
        "outputId": "07afcc26-096f-4784-fa95-c45b464e47ef"
      },
      "execution_count": null,
      "outputs": [
        {
          "output_type": "execute_result",
          "data": {
            "text/plain": [
              "                                                text  \\\n",
              "0  This is the NLP TASKS ARTICLE written by ABhis...   \n",
              "1  IN this article ll be explaining various DATA-...   \n",
              "2                  So stay tuned for FURther More &&   \n",
              "3  Nah I don\"t think he goes to usf, he lives around   \n",
              "\n",
              "                                               lower  \n",
              "0  this is the nlp tasks article written by abhis...  \n",
              "1  in this article ll be explaining various data-...  \n",
              "2                  so stay tuned for further more &&  \n",
              "3  nah i don\"t think he goes to usf, he lives around  "
            ],
            "text/html": [
              "\n",
              "  <div id=\"df-155734a7-c855-4840-94c3-0f2e441d2048\">\n",
              "    <div class=\"colab-df-container\">\n",
              "      <div>\n",
              "<style scoped>\n",
              "    .dataframe tbody tr th:only-of-type {\n",
              "        vertical-align: middle;\n",
              "    }\n",
              "\n",
              "    .dataframe tbody tr th {\n",
              "        vertical-align: top;\n",
              "    }\n",
              "\n",
              "    .dataframe thead th {\n",
              "        text-align: right;\n",
              "    }\n",
              "</style>\n",
              "<table border=\"1\" class=\"dataframe\">\n",
              "  <thead>\n",
              "    <tr style=\"text-align: right;\">\n",
              "      <th></th>\n",
              "      <th>text</th>\n",
              "      <th>lower</th>\n",
              "    </tr>\n",
              "  </thead>\n",
              "  <tbody>\n",
              "    <tr>\n",
              "      <th>0</th>\n",
              "      <td>This is the NLP TASKS ARTICLE written by ABhis...</td>\n",
              "      <td>this is the nlp tasks article written by abhis...</td>\n",
              "    </tr>\n",
              "    <tr>\n",
              "      <th>1</th>\n",
              "      <td>IN this article ll be explaining various DATA-...</td>\n",
              "      <td>in this article ll be explaining various data-...</td>\n",
              "    </tr>\n",
              "    <tr>\n",
              "      <th>2</th>\n",
              "      <td>So stay tuned for FURther More &amp;&amp;</td>\n",
              "      <td>so stay tuned for further more &amp;&amp;</td>\n",
              "    </tr>\n",
              "    <tr>\n",
              "      <th>3</th>\n",
              "      <td>Nah I don\"t think he goes to usf, he lives around</td>\n",
              "      <td>nah i don\"t think he goes to usf, he lives around</td>\n",
              "    </tr>\n",
              "  </tbody>\n",
              "</table>\n",
              "</div>\n",
              "      <button class=\"colab-df-convert\" onclick=\"convertToInteractive('df-155734a7-c855-4840-94c3-0f2e441d2048')\"\n",
              "              title=\"Convert this dataframe to an interactive table.\"\n",
              "              style=\"display:none;\">\n",
              "        \n",
              "  <svg xmlns=\"http://www.w3.org/2000/svg\" height=\"24px\"viewBox=\"0 0 24 24\"\n",
              "       width=\"24px\">\n",
              "    <path d=\"M0 0h24v24H0V0z\" fill=\"none\"/>\n",
              "    <path d=\"M18.56 5.44l.94 2.06.94-2.06 2.06-.94-2.06-.94-.94-2.06-.94 2.06-2.06.94zm-11 1L8.5 8.5l.94-2.06 2.06-.94-2.06-.94L8.5 2.5l-.94 2.06-2.06.94zm10 10l.94 2.06.94-2.06 2.06-.94-2.06-.94-.94-2.06-.94 2.06-2.06.94z\"/><path d=\"M17.41 7.96l-1.37-1.37c-.4-.4-.92-.59-1.43-.59-.52 0-1.04.2-1.43.59L10.3 9.45l-7.72 7.72c-.78.78-.78 2.05 0 2.83L4 21.41c.39.39.9.59 1.41.59.51 0 1.02-.2 1.41-.59l7.78-7.78 2.81-2.81c.8-.78.8-2.07 0-2.86zM5.41 20L4 18.59l7.72-7.72 1.47 1.35L5.41 20z\"/>\n",
              "  </svg>\n",
              "      </button>\n",
              "      \n",
              "  <style>\n",
              "    .colab-df-container {\n",
              "      display:flex;\n",
              "      flex-wrap:wrap;\n",
              "      gap: 12px;\n",
              "    }\n",
              "\n",
              "    .colab-df-convert {\n",
              "      background-color: #E8F0FE;\n",
              "      border: none;\n",
              "      border-radius: 50%;\n",
              "      cursor: pointer;\n",
              "      display: none;\n",
              "      fill: #1967D2;\n",
              "      height: 32px;\n",
              "      padding: 0 0 0 0;\n",
              "      width: 32px;\n",
              "    }\n",
              "\n",
              "    .colab-df-convert:hover {\n",
              "      background-color: #E2EBFA;\n",
              "      box-shadow: 0px 1px 2px rgba(60, 64, 67, 0.3), 0px 1px 3px 1px rgba(60, 64, 67, 0.15);\n",
              "      fill: #174EA6;\n",
              "    }\n",
              "\n",
              "    [theme=dark] .colab-df-convert {\n",
              "      background-color: #3B4455;\n",
              "      fill: #D2E3FC;\n",
              "    }\n",
              "\n",
              "    [theme=dark] .colab-df-convert:hover {\n",
              "      background-color: #434B5C;\n",
              "      box-shadow: 0px 1px 3px 1px rgba(0, 0, 0, 0.15);\n",
              "      filter: drop-shadow(0px 1px 2px rgba(0, 0, 0, 0.3));\n",
              "      fill: #FFFFFF;\n",
              "    }\n",
              "  </style>\n",
              "\n",
              "      <script>\n",
              "        const buttonEl =\n",
              "          document.querySelector('#df-155734a7-c855-4840-94c3-0f2e441d2048 button.colab-df-convert');\n",
              "        buttonEl.style.display =\n",
              "          google.colab.kernel.accessAllowed ? 'block' : 'none';\n",
              "\n",
              "        async function convertToInteractive(key) {\n",
              "          const element = document.querySelector('#df-155734a7-c855-4840-94c3-0f2e441d2048');\n",
              "          const dataTable =\n",
              "            await google.colab.kernel.invokeFunction('convertToInteractive',\n",
              "                                                     [key], {});\n",
              "          if (!dataTable) return;\n",
              "\n",
              "          const docLinkHtml = 'Like what you see? Visit the ' +\n",
              "            '<a target=\"_blank\" href=https://colab.research.google.com/notebooks/data_table.ipynb>data table notebook</a>'\n",
              "            + ' to learn more about interactive tables.';\n",
              "          element.innerHTML = '';\n",
              "          dataTable['output_type'] = 'display_data';\n",
              "          await google.colab.output.renderOutput(dataTable, element);\n",
              "          const docLink = document.createElement('div');\n",
              "          docLink.innerHTML = docLinkHtml;\n",
              "          element.appendChild(docLink);\n",
              "        }\n",
              "      </script>\n",
              "    </div>\n",
              "  </div>\n",
              "  "
            ]
          },
          "metadata": {},
          "execution_count": 4
        }
      ]
    },
    {
      "cell_type": "markdown",
      "source": [
        "## Punctuation Removal \n",
        "Removing punctuation(*,&,%#@#()) is a crucial step since punctuation doesn’t add any extra information or value to our data. Hence, removing punctuation reduces the data size; therefore, it improves computational efficiency.\n",
        "\n",
        "This step can be done using the Regex or Replace method."
      ],
      "metadata": {
        "id": "7As-hLrPo2em"
      }
    },
    {
      "cell_type": "code",
      "source": [
        "import string # string.punctuation returns a string containing all punctuations.\n",
        "string.punctuation"
      ],
      "metadata": {
        "colab": {
          "base_uri": "https://localhost:8080/",
          "height": 35
        },
        "id": "kx6JKhNWozOy",
        "outputId": "397776d2-c4e6-494e-f7cd-0ef5aa0b15ca"
      },
      "execution_count": null,
      "outputs": [
        {
          "output_type": "execute_result",
          "data": {
            "text/plain": [
              "'!\"#$%&\\'()*+,-./:;<=>?@[\\\\]^_`{|}~'"
            ],
            "application/vnd.google.colaboratory.intrinsic+json": {
              "type": "string"
            }
          },
          "metadata": {},
          "execution_count": 5
        }
      ]
    },
    {
      "cell_type": "code",
      "source": [
        "df.text.apply(lambda x: \"\".join(i for i in x if i not in string.punctuation))"
      ],
      "metadata": {
        "colab": {
          "base_uri": "https://localhost:8080/"
        },
        "id": "dvY4OUgDo_Qv",
        "outputId": "60ab1b67-05d3-4980-e68d-bbc9d120ad32"
      },
      "execution_count": null,
      "outputs": [
        {
          "output_type": "execute_result",
          "data": {
            "text/plain": [
              "0    This is the NLP TASKS ARTICLE written by ABhis...\n",
              "1    IN this article ll be explaining various DATAC...\n",
              "2                      So stay tuned for FURther More \n",
              "3      Nah I dont think he goes to usf he lives around\n",
              "Name: text, dtype: object"
            ]
          },
          "metadata": {},
          "execution_count": 7
        }
      ]
    },
    {
      "cell_type": "code",
      "source": [
        "# alternative way - using re\n",
        "import re\n",
        "df.text.apply(lambda x:''.join(re.findall(r'[a-zA-Z+\" \"]',x)))"
      ],
      "metadata": {
        "colab": {
          "base_uri": "https://localhost:8080/"
        },
        "id": "KyRwFogApevj",
        "outputId": "a4dbe5ee-0024-4277-a01d-b2dfc4e7af03"
      },
      "execution_count": null,
      "outputs": [
        {
          "output_type": "execute_result",
          "data": {
            "text/plain": [
              "0    This is the NLP TASKS ARTICLE written by ABhis...\n",
              "1    IN this article ll be explaining various DATAC...\n",
              "2                      So stay tuned for FURther More \n",
              "3     Nah I don\"t think he goes to usf he lives around\n",
              "Name: text, dtype: object"
            ]
          },
          "metadata": {},
          "execution_count": 8
        }
      ]
    },
    {
      "cell_type": "markdown",
      "source": [
        "## Stop Words Removal\n",
        "Words that frequently occur in sentences and carry no significant meaning in sentences. These are not important for prediction, so we remove stopwords to reduce data size and prevent overfitting. Note: Before filtering stopwords, make sure you lowercase the data since our stopwords are lowercase.\n",
        "\n",
        "Using the NLTK library, we can filter out our Stopwords from the dataset."
      ],
      "metadata": {
        "id": "G7fpnPa4qGY8"
      }
    },
    {
      "cell_type": "code",
      "source": [
        "# !pip install nltk\n",
        "import nltk \n",
        "nltk.download('stopwords') \n",
        "from nltk.corpus import stopwords\n",
        "allstopwords = stopwords.words('english')\n",
        "df.lower.apply(lambda x: \" \".join(i for i in x.split() if i not in allstopwords))"
      ],
      "metadata": {
        "colab": {
          "base_uri": "https://localhost:8080/"
        },
        "id": "spSYJAGwqBw8",
        "outputId": "01e42968-f11b-42d5-dc22-6d55eed3ed84"
      },
      "execution_count": null,
      "outputs": [
        {
          "output_type": "stream",
          "name": "stderr",
          "text": [
            "[nltk_data] Downloading package stopwords to /root/nltk_data...\n",
            "[nltk_data]   Unzipping corpora/stopwords.zip.\n"
          ]
        },
        {
          "output_type": "execute_result",
          "data": {
            "text/plain": [
              "0         nlp tasks article written abhishek jaiswal**\n",
              "1    article explaining various data-cleaning techn...\n",
              "2                                        stay tuned &&\n",
              "3               nah don\"t think goes usf, lives around\n",
              "Name: lower, dtype: object"
            ]
          },
          "metadata": {},
          "execution_count": 9
        }
      ]
    },
    {
      "cell_type": "markdown",
      "source": [
        "## Spelling Correction\n",
        "Most of the text data extracted in customer reviews, blogs, or tweets have some chances of spelling mistakes.\n",
        "\n",
        "Correcting spelling mistakes improves model accuracy.\n",
        "\n",
        "There are various libraries to fix spelling mistakes, but the most convenient method is to use a text blob.\n",
        "\n",
        "The method correct() works on text blob objects and corrects the spelling mistakes."
      ],
      "metadata": {
        "id": "4s3mGqsyqShj"
      }
    },
    {
      "cell_type": "code",
      "source": [
        "#Install textblob library \n",
        "!pip install textblob \n",
        "from textblob import TextBlob"
      ],
      "metadata": {
        "colab": {
          "base_uri": "https://localhost:8080/"
        },
        "id": "QgVHcdeEqLO5",
        "outputId": "2e28bfa0-3926-492d-c16e-0373dab583d8"
      },
      "execution_count": null,
      "outputs": [
        {
          "output_type": "stream",
          "name": "stdout",
          "text": [
            "Looking in indexes: https://pypi.org/simple, https://us-python.pkg.dev/colab-wheels/public/simple/\n",
            "Requirement already satisfied: textblob in /usr/local/lib/python3.7/dist-packages (0.15.3)\n",
            "Requirement already satisfied: nltk>=3.1 in /usr/local/lib/python3.7/dist-packages (from textblob) (3.7)\n",
            "Requirement already satisfied: tqdm in /usr/local/lib/python3.7/dist-packages (from nltk>=3.1->textblob) (4.64.0)\n",
            "Requirement already satisfied: regex>=2021.8.3 in /usr/local/lib/python3.7/dist-packages (from nltk>=3.1->textblob) (2022.6.2)\n",
            "Requirement already satisfied: click in /usr/local/lib/python3.7/dist-packages (from nltk>=3.1->textblob) (7.1.2)\n",
            "Requirement already satisfied: joblib in /usr/local/lib/python3.7/dist-packages (from nltk>=3.1->textblob) (1.1.0)\n"
          ]
        }
      ]
    },
    {
      "cell_type": "code",
      "source": [
        "df['lower'].apply(lambda x: str(TextBlob(x).correct()))"
      ],
      "metadata": {
        "colab": {
          "base_uri": "https://localhost:8080/"
        },
        "id": "j1Bua5nQqXIO",
        "outputId": "0222e828-d313-47f7-9669-80ed7a30129e"
      },
      "execution_count": null,
      "outputs": [
        {
          "output_type": "execute_result",
          "data": {
            "text/plain": [
              "0    this is the nap tasks article written by abhis...\n",
              "1    in this article ll be explaining various data-...\n",
              "2                    so stay tuned for further more &&\n",
              "3      ah i don\"t think he goes to us, he lives around\n",
              "Name: lower, dtype: object"
            ]
          },
          "metadata": {},
          "execution_count": 11
        }
      ]
    },
    {
      "cell_type": "markdown",
      "source": [
        "## Tokenization\n",
        "Tokenization means splitting text into meaningful unit words. There are sentence tokenizers as well as word tokenizers.\n",
        "\n",
        "Sentence tokenizer splits a paragraph into meaningful sentences, while word tokenizer splits a sentence into unit meaningful words. Many libraries can perform tokenization like SpaCy, NLTK, and TextBlob.\n",
        "\n",
        "Splitting a sentence on space to get individual unit words can be understood as tokenization."
      ],
      "metadata": {
        "id": "l9IFeL9PqyE4"
      }
    },
    {
      "cell_type": "code",
      "source": [
        "import nltk\n",
        "nltk.download('punkt')\n",
        "mystring = \"My favorite animal is cat\" \n",
        "nltk.word_tokenize(mystring)"
      ],
      "metadata": {
        "colab": {
          "base_uri": "https://localhost:8080/"
        },
        "id": "mLctDh_dqpJq",
        "outputId": "e8441672-2d20-4d8d-e00e-f6e421059404"
      },
      "execution_count": null,
      "outputs": [
        {
          "output_type": "stream",
          "name": "stderr",
          "text": [
            "[nltk_data] Downloading package punkt to /root/nltk_data...\n",
            "[nltk_data]   Unzipping tokenizers/punkt.zip.\n"
          ]
        },
        {
          "output_type": "execute_result",
          "data": {
            "text/plain": [
              "['My', 'favorite', 'animal', 'is', 'cat']"
            ]
          },
          "metadata": {},
          "execution_count": 13
        }
      ]
    },
    {
      "cell_type": "code",
      "source": [
        "mystring.split(\" \")\n"
      ],
      "metadata": {
        "colab": {
          "base_uri": "https://localhost:8080/"
        },
        "id": "W90_jGRAq4uP",
        "outputId": "f7e9bf0f-e8aa-42d6-aa4b-c598fd5082dc"
      },
      "execution_count": null,
      "outputs": [
        {
          "output_type": "execute_result",
          "data": {
            "text/plain": [
              "['My', 'favorite', 'animal', 'is', 'cat']"
            ]
          },
          "metadata": {},
          "execution_count": 14
        }
      ]
    },
    {
      "cell_type": "markdown",
      "source": [
        "## Stemming\n",
        "Stemming is converting words into their root word using some set of rules irrespective of meaning. I.e.,\n",
        "\n",
        "* “fish,” “fishes,” and “fishing” are stemmed into “fish”.\n",
        "* “playing”, “played”,” plays” are stemmed into “play”.\n",
        "* Stemming helps to reduce the vocabulary hence improving the accuracy.\n",
        "\n",
        "The simplest way to perform stemming is to use NLTK or a TextBlob library.\n",
        "\n",
        "NLTK provides various stemming techniques, i.e. Snowball, PorterStemmer; different technique follows different sets of rules to convert words into their root word."
      ],
      "metadata": {
        "id": "TROYxVEdrTmD"
      }
    },
    {
      "cell_type": "code",
      "source": [
        "import nltk\n",
        "# “article” is stemmed into “articl“, “lives“ — -> “live“.\n",
        "from nltk.stem import PorterStemmer\n",
        "st = PorterStemmer()\n",
        "df['text'].apply(lambda x:\" \".join([st.stem(word) for word in x.split()]))"
      ],
      "metadata": {
        "colab": {
          "base_uri": "https://localhost:8080/"
        },
        "id": "7MVqr9wfrIw_",
        "outputId": "a3f064a9-a521-44d8-b865-40575d715a4f"
      },
      "execution_count": null,
      "outputs": [
        {
          "output_type": "execute_result",
          "data": {
            "text/plain": [
              "0    thi is the nlp task articl written by abhishek...\n",
              "1    in thi articl ll be explain variou data-clean ...\n",
              "2                     so stay tune for further more &&\n",
              "3      nah i don\"t think he goe to usf, he live around\n",
              "Name: text, dtype: object"
            ]
          },
          "metadata": {},
          "execution_count": 15
        }
      ]
    },
    {
      "cell_type": "markdown",
      "source": [
        "## Lemmatization\n",
        "Lemmatization is converting words into their root word using vocabulary mapping. Lemmatization is done with the help of part of speech and its meaning; hence it doesn’t generate meaningless root words. But lemmatization is slower than stemming.\n",
        "\n",
        "* “good,” “better,” or “best” is lemmatized into “good“.\n",
        "* Lemmatization will convert all synonyms into a single root word. i.e. * “automobile“, “car“,” truck“,” vehicles” are lemmatized into “automobile”.\n",
        "* Lemmatization usually gets better results.\n",
        "\n",
        "Ie. leafs Stemmed to. leaves stemmed to leav while leafs , leaves lemmatized to leaf\n",
        "\n",
        "Lemmatization can be done using NLTK, TextBlob library."
      ],
      "metadata": {
        "id": "7NspLzTZrpWW"
      }
    },
    {
      "cell_type": "markdown",
      "source": [
        "#### Wordnet Lemmatizer with NLTK\n",
        "\n",
        "Wordnet is an large, freely and publicly available lexical database for the English language aiming to establish structured semantic relationships between words.\n",
        "\n",
        "It offers lemmatization capabilities as well and is one of the earliest and most commonly used lemmatizers.\n",
        "\n",
        "NLTK offers an interface to it, but you have to download it first in order to use it. Follow the below instructions to install nltk and download wordnet."
      ],
      "metadata": {
        "id": "mMfbwYLyuHR6"
      }
    },
    {
      "cell_type": "code",
      "source": [
        "# How to install and import NLTK\n",
        "# In terminal or prompt:\n",
        "# pip install nltk\n",
        "\n",
        "# # Download Wordnet through NLTK in python console:\n",
        "import nltk\n",
        "nltk.download('wordnet')"
      ],
      "metadata": {
        "colab": {
          "base_uri": "https://localhost:8080/"
        },
        "id": "OJwqUNw1uNp-",
        "outputId": "75fa4bb8-613d-4027-cf9c-0a0e0166e6dc"
      },
      "execution_count": null,
      "outputs": [
        {
          "output_type": "stream",
          "name": "stderr",
          "text": [
            "[nltk_data] Downloading package wordnet to /root/nltk_data...\n",
            "[nltk_data]   Package wordnet is already up-to-date!\n"
          ]
        },
        {
          "output_type": "execute_result",
          "data": {
            "text/plain": [
              "True"
            ]
          },
          "metadata": {},
          "execution_count": 32
        }
      ]
    },
    {
      "cell_type": "code",
      "source": [
        "nltk.download('omw-1.4')"
      ],
      "metadata": {
        "colab": {
          "base_uri": "https://localhost:8080/"
        },
        "id": "MugPckYNuj_s",
        "outputId": "d97bc8bf-3f9b-4a02-8c6a-e40dc5f5e1bf"
      },
      "execution_count": null,
      "outputs": [
        {
          "output_type": "stream",
          "name": "stderr",
          "text": [
            "[nltk_data] Downloading package omw-1.4 to /root/nltk_data...\n"
          ]
        },
        {
          "output_type": "execute_result",
          "data": {
            "text/plain": [
              "True"
            ]
          },
          "metadata": {},
          "execution_count": 34
        }
      ]
    },
    {
      "cell_type": "code",
      "source": [
        "# In order to lemmatize, you need to create an instance of the WordNetLemmatizer() and call the lemmatize() function on a single word.\n",
        "\n",
        "import nltk\n",
        "from nltk.stem import WordNetLemmatizer \n",
        "\n",
        "# Init the Wordnet Lemmatizer\n",
        "lemmatizer = WordNetLemmatizer()\n",
        "\n",
        "# Lemmatize Single Word\n",
        "print(lemmatizer.lemmatize(\"bats\"))"
      ],
      "metadata": {
        "colab": {
          "base_uri": "https://localhost:8080/"
        },
        "id": "ng8_MIEEuYIk",
        "outputId": "d980ee07-cd70-4f7a-b2f3-f5f0901f38cc"
      },
      "execution_count": null,
      "outputs": [
        {
          "output_type": "stream",
          "name": "stdout",
          "text": [
            "bat\n"
          ]
        }
      ]
    },
    {
      "cell_type": "markdown",
      "source": [
        "## Lemmatize the whole dataset.\n",
        "\n"
      ],
      "metadata": {
        "id": "4h7w7iT8uz7a"
      }
    },
    {
      "cell_type": "code",
      "source": [
        "import textblob\n",
        "from textblob import Word\n",
        "df['lower'].apply(lambda x: \" \".join([Word(word).lemmatize() for word in x.split()]))"
      ],
      "metadata": {
        "colab": {
          "base_uri": "https://localhost:8080/"
        },
        "id": "g9ZQ4dMEudwA",
        "outputId": "fe8dab78-7f68-4745-9827-296656225af2"
      },
      "execution_count": null,
      "outputs": [
        {
          "output_type": "execute_result",
          "data": {
            "text/plain": [
              "0    this is the nlp task article written by abhish...\n",
              "1    in this article ll be explaining various data-...\n",
              "2                    so stay tuned for further more &&\n",
              "3       nah i don\"t think he go to usf, he life around\n",
              "Name: lower, dtype: object"
            ]
          },
          "metadata": {},
          "execution_count": 37
        }
      ]
    },
    {
      "cell_type": "markdown",
      "source": [
        "# Step 2 Exploratory Data Analysis\n",
        "So far, we have seen the various text preprocessing techniques that must be done after getting the raw data. After cleaning our data, we now can perform exploratory data analysis and explore and understand the text data.\n",
        "\n",
        "## Word Frequency in Data\n",
        "Counting the unique words in our data gives an idea about our data’s most frequent, least frequent terms. Often we drop the least frequent comments to make our model training more generalized.\n",
        "\n",
        "nltk provides Freq_dist class to calculate word frequency, and it takes a bag of words as input."
      ],
      "metadata": {
        "id": "1eS6qkIdveJm"
      }
    },
    {
      "cell_type": "code",
      "source": [
        "all_words = []\n",
        "for sentence in df['lower']:\n",
        "    all_words.extend(sentence.split())"
      ],
      "metadata": {
        "id": "XCXh3qZTvNrZ"
      },
      "execution_count": null,
      "outputs": []
    },
    {
      "cell_type": "markdown",
      "source": [
        "all_words Contain all the words available in our dataset. We often call it vocabulary.\n",
        "\n"
      ],
      "metadata": {
        "id": "nYzVoloqvnsI"
      }
    },
    {
      "cell_type": "code",
      "source": [
        "import nltk\n",
        "from nltk import FreqDist\n",
        "nltk.FreqDist(all_words)"
      ],
      "metadata": {
        "colab": {
          "base_uri": "https://localhost:8080/"
        },
        "id": "z72YNzp4vkCP",
        "outputId": "d6fd214a-3cb4-4fb3-b27c-e2305ba85048"
      },
      "execution_count": null,
      "outputs": [
        {
          "output_type": "execute_result",
          "data": {
            "text/plain": [
              "FreqDist({'this': 2, 'article': 2, 'he': 2, 'is': 1, 'the': 1, 'nlp': 1, 'tasks': 1, 'written': 1, 'by': 1, 'abhishek': 1, ...})"
            ]
          },
          "metadata": {},
          "execution_count": 43
        }
      ]
    },
    {
      "cell_type": "markdown",
      "source": [
        "## Word Cloud\n",
        "Wordcloud is the pictorial representation of the word frequency of the dataset.WordCloud is easier to understand and gives a better idea about our textual data.\n",
        "\n",
        "The library wordcloud Let us create a word cloud in a few lines of code.\n",
        "\n",
        "importing libraries :"
      ],
      "metadata": {
        "id": "8Is7-Xvbw1Aq"
      }
    },
    {
      "cell_type": "code",
      "source": [
        "from wordcloud import WordCloud\n",
        "from wordcloud import STOPWORDS  \n",
        "import matplotlib.pyplot as plt"
      ],
      "metadata": {
        "id": "O4dpjSQnvrHA"
      },
      "execution_count": null,
      "outputs": []
    },
    {
      "cell_type": "code",
      "source": [
        "# We can draw a word cloud using text containing all the words of our data.\n",
        "\n",
        "words = []\n",
        "for message in df['lower']:\n",
        "    words.extend([word for word in message.split() if word not in STOPWORDS])\n",
        "        \n",
        "wordcloud = WordCloud(width = 1000, height = 500).generate(\" \".join(words))\n",
        "plt.imshow(wordcloud, interpolation='bilinear')\n",
        "plt.axis(\"off\")\n",
        "plt.show()"
      ],
      "metadata": {
        "colab": {
          "base_uri": "https://localhost:8080/",
          "height": 198
        },
        "id": "sSvK9-pUw4od",
        "outputId": "f9cb9872-f088-463e-d733-0d1d72326548"
      },
      "execution_count": null,
      "outputs": [
        {
          "output_type": "display_data",
          "data": {
            "text/plain": [
              "<Figure size 432x288 with 1 Axes>"
            ],
            "image/png": "[encoded data removed]"
          },
          "metadata": {
            "needs_background": "light"
          }
        }
      ]
    },
    {
      "cell_type": "markdown",
      "source": [
        "* background_color = 'white' using this parameter, we can change the background colour of the word cloud.\n",
        "\n",
        "* collocations = False Keeping it as False will ignore the collocation words. Collocations are those words that are formed by those words which occur together. I.e. pay attention, home works, etc.\n",
        "\n",
        "* We can adjust height and width using the parameters.\n",
        "\n",
        "Note : Before making the word cloud always remove the stopwords."
      ],
      "metadata": {
        "id": "N641Y7IExESu"
      }
    }
  ]
}